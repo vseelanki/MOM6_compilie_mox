{
 "cells": [
  {
   "cell_type": "markdown",
   "id": "1a9cb258",
   "metadata": {},
   "source": [
    "# Build MOM6 on mox Hyak HPC at UW\n",
    "This Document was created by Vivek Seelanki"
   ]
  },
  {
   "cell_type": "markdown",
   "id": "99e8f3d7",
   "metadata": {},
   "source": [
    "# PREPARATION OF NECESSARY MODULES \n",
    "\n",
    ">>Fortran compiler\n",
    "     Intel Fortran (ifort) on HPC\n",
    "\n",
    ">>MPI library\n",
    "     Open MPI (usually faster)\n",
    "\n",
    ">>netCDF for I/O"
   ]
  },
  {
   "cell_type": "markdown",
   "id": "a5194d42",
   "metadata": {},
   "source": [
    "## For loading these compiler on mox hyak HPC\n",
    "\n",
    "$ module load netcdf_fortran+c_4.4.1.1-icc_17           # netcdf \n",
    "\n",
    "$ module load icc_17-impi_2017                          # intel Fortran and MPI\n",
    "\n",
    "** Note: Add these modules in your ~/.bashrc file"
   ]
  },
  {
   "cell_type": "markdown",
   "id": "8d8c1f83",
   "metadata": {},
   "source": [
    "## Before downloading source code on mox hpc need to login on intractive build node.\n",
    "\n",
    "$ srun -p build --time=4:00:00 --mem=100G --pty /bin/bash\n",
    "\n",
    "## Then download wherever you want on your mox hpc account. In my case\n",
    "\n",
    "$ cd /gscratch/bumblereem/viveklp\n"
   ]
  },
  {
   "cell_type": "markdown",
   "id": "81ab8f66",
   "metadata": {},
   "source": [
    "###  GET THE CODE ####\n",
    "\n",
    "$ git clone https://github.com/NOAA-GFDL/MOM6-examples.git --recursive\n",
    "        (or)\n",
    "$ git clone --recursive https://github.com/NOAA-GFDL/MOM6-examples.git MOM6-examples\n",
    "\n",
    "## Verify submodules:\n",
    "\n",
    "$ cd MOM6-examples\n",
    "$ git submodule update --init --recursive"
   ]
  },
  {
   "cell_type": "markdown",
   "id": "5a6da404",
   "metadata": {},
   "source": [
    "###GFDL TOOLS\n",
    ">>list_paths\n",
    "  Generates a list of files to be compiled (usually in path_names)\n",
    "\n",
    ">>mkmf\n",
    "  Generates a Makefile from path_names and a platform template (e.g. linux-gnu.mk)"
   ]
  },
  {
   "cell_type": "markdown",
   "id": "2b0a1392",
   "metadata": {},
   "source": [
    "#### Compiling the FMS shared code\n",
    "\n",
    "### FMS SETUP\n",
    "## FMS is GFDL's climate model framework\n",
    "\n",
    ">>> Create the path_names manifest:\n",
    "\n",
    "$ mkdir -p build/fms\n",
    "$ cd build/fms\n",
    "$ ../../src/mkmf/bin/list_paths -l ../../src/FMS\n",
    "\n",
    "## Sample output:\n",
    "../../src/FMS/horiz_interp/horiz_interp_bilinear.F90\n",
    "../../src/FMS/horiz_interp/horiz_interp_type.F90\n",
    "../../src/FMS/horiz_interp/horiz_interp_bicubic.F90\n",
    "../../src/FMS/horiz_interp/horiz_interp.F90\n",
    "(...)\n",
    "\n",
    "### BUILD FMS\n",
    "## Generate the Makefile:\n",
    "\n",
    "$ ../../src/mkmf/bin/mkmf \\\n",
    "   -t ../../src/mkmf/templates/nccs-intel.mk \\\n",
    "   -p libfms.a \\\n",
    "   -c \"-Duse_libMPI -Duse_netCDF\" \\\n",
    "   path_names\n",
    "\n",
    "%%% Note: In mox hyak hpc \" nccs-intel.mk \" platform template is perfect for ifort\n",
    "\n",
    "## and build:\n",
    "\n",
    "$ make NETCDF=3 REPRO=1 libfms.a -j"
   ]
  },
  {
   "cell_type": "markdown",
   "id": "23f226a1",
   "metadata": {},
   "source": [
    "## MOM6 SETUP ##\n",
    "## Compiling MOM6 in ocean-only mode (without SIS2)\n",
    "\n",
    "$ mkdir -p build/ocean_only\n",
    "\n",
    "$ cd build/ocean_only\n",
    "\n",
    "## MANIFEST\n",
    "\n",
    "$ ../../src/mkmf/bin/list_paths -l \\\n",
    "    ../../src/MOM6/config_src/infra/FMS1/ \\\n",
    "    ../../src/MOM6/config_src/memory/dynamic_symmetric/ \\\n",
    "    ../../src/MOM6/config_src/drivers/solo_driver/ \\\n",
    "    ../../src/MOM6/config_src/external/ \\\n",
    "    ../../src/MOM6/src/*/ \\\n",
    "    ../../src/MOM6/src/*/*/\n",
    "\n",
    "## BUILD MOM6\n",
    "## CREATE MAKEFILE\n",
    "\n",
    "$ ../../src/mkmf/bin/mkmf \\\n",
    "   -t ../../src/mkmf/templates/nccs_intel.mk \\\n",
    "   -o '-I../fms' \\\n",
    "   -p MOM6 \\\n",
    "   -l '-L../fms -lfms' \\\n",
    "   path_names\n",
    "\n",
    "### Finally, compile the MOM6 ocean-only model with:\n",
    "\n",
    "$ make NETCDF=3 REPRO=1 MOM6 -j\n"
   ]
  },
  {
   "cell_type": "markdown",
   "id": "6dfd1914",
   "metadata": {},
   "source": [
    "### To run the test_case\n",
    "##  Test the executable:\n",
    "\n",
    "$ cd ../../ocean_only/double_gyre\n",
    "$ mkdir RESTART\n",
    "\n",
    "## Run double_gyre test_case\n",
    "\n",
    "$ ../../build/ocean_only/MOM6\n"
   ]
  },
  {
   "cell_type": "markdown",
   "id": "695607d5",
   "metadata": {},
   "source": []
  },
  {
   "cell_type": "markdown",
   "id": "99f1b3a2",
   "metadata": {},
   "source": [
    "## Compiling MOM6 in MOM6-SIS2 coupled mode\n",
    "\n",
    "$ cd /gscratch/bumblereem/viveklp/MOM6-examples\n",
    "\n",
    "$ mkdir -p build/ice_ocean_SIS2/\n",
    "\n",
    "## MANIFEST\n",
    "\n",
    "$ cd build/ice_ocean_SIS2/; rm -f path_names; \\\n",
    "\n",
    "$ ../../src/mkmf/bin/list_paths -l \\\n",
    "     ../../src/MOM6/config_src/infra/FMS1/ \\\n",
    "  \t ../../src/MOM6/config_src/memory/dynamic_symmetric/ \\\n",
    "     ../../src/MOM6/config_src/drivers/FMS_cap/ \\\n",
    "     ../../src/MOM6/config_src/external/ \\\n",
    "     ../../src/SIS2/config_src/dynamic_symmetric/ \\\n",
    "     ../../src/MOM6/src/*/ \\\n",
    "     ../../src/MOM6/src/*/*/ \\\n",
    "     ../../src/atmos_null/ \\\n",
    "     ../../src/coupler/ \\\n",
    "     ../../src/land_null/ \\\n",
    "     ../../src/ice_param/ \\\n",
    "     ../../src/icebergs/ \\\n",
    "     ../../src/SIS2/ \\\n",
    "     ../../src/FMS/coupler/ \\\n",
    "     ../../src/FMS/include/\n",
    "\n",
    "##  BUILD MOM6\n",
    "### CREATE MAKEFILE\n",
    "\n",
    "$ cd build/ice_ocean_SIS2/; \\\n",
    "\n",
    "../../src/mkmf/bin/mkmf \\\n",
    "\t-t ../../src/mkmf/templates/nccs-intel.mk \\\n",
    "\t-o '-I../fms' \\\n",
    "\t-p MOM6 \\\n",
    "\t-l '-L../fms -lfms' \\\n",
    "\t-c '-Duse_AM3_physics \\\n",
    "\t-D_USE_LEGACY_LAND_' \\\n",
    " \tpath_names\n",
    "\n",
    "## Finally, compile the MOM6 OCEAN-SIS2 coupled model with:\n",
    "\n",
    "$ make NETCDF=3 REPRO=1 MOM6 -j"
   ]
  },
  {
   "cell_type": "markdown",
   "id": "5e71b020",
   "metadata": {},
   "source": [
    "\n",
    "### To run the test_case in ocean-sis2 coupled mode\n",
    "##  Test the executable:\n",
    "\n",
    "$ cd ../../ice_ocean_SIS2/OM4_05\n",
    "$ mkdir RESTART\n",
    "\n",
    "## Run double_gyre test_case\n",
    "\n",
    "$ ../../build/ice_ocean_SIS2/MOM6"
   ]
  },
  {
   "cell_type": "markdown",
   "id": "0e6f4e84",
   "metadata": {},
   "source": [
    "### To run the ice_ocean_sis2 test_case need to downloaded the input datasets from below link, it is very diffcult to download those datasets, due to no support from GFDL sever.\n",
    "\n",
    ">> You can construct your own datasets directory that the link .datasets points to by downloading and unpacking each of the tar files at ftp://ftp.gfdl.noaa.gov/perm/Alistair.Adcroft/MOM6-testing/ into your own central location and linking .datasets to that location.\n",
    "\n",
    ">> Note that not all tar files are needed at once but some tests might use data from more than one file. We try to reuse data between tests and the directory names within the datasets location are not necessarily those of the tests in MOM6-examples.\n",
    "\n",
    "$ cd  /gscratch/bumblereem/viveklp/\n",
    "$ mkdir -p datasets\n",
    "$ cd datasets\n",
    "$ wget ftp://ftp.gfdl.noaa.gov/perm/Alistair.Adcroft/MOM6-testing\n",
    "$ ls\n",
    "\n",
    "AM2_LM3_MOM6i_1deg        CM2G63L      GOLD_SIS_025      MESO_025_63L.tgz       OM_1deg.tgz       OM4_360x320_C180.tgz\n",
    "AM2_LM3_MOM6i_1deg.tgz    CM2G63L.tgz  GOLD_SIS_025.tgz  MOM6_SIS_icebergs      OM4_025           reanalysis\n",
    "AM2_LM3_MOM6i_1deg.tgz.1  CORE         GOLD_SIS.tgz      MOM6_SIS_icebergs.tgz  OM4_025.tgz       reanalysis-sample.tgz\n",
    "Baltic_OM4_025            CORE.tgz     hashed-files      obs                    OM4_025.tgz.old   reanalysis.tgz\n",
    "Baltic_OM4_025.tgz        global       MESO_025_23L      obs.tgz                OM4_05            src\n",
    "Baltic_OM4_05             global.tgz   MESO_025_23L.tgz  obs.woa13.tgz          OM4_05.tgz        src_AM2_LM3_SIS1.tgz\n",
    "Baltic_OM4_05.tgz         GOLD_SIS     MESO_025_63L      OM_1deg                OM4_360x320_C180\n",
    "\n",
    "## unpacking each of the tar files\n",
    "$ tar xzf OM4_05.tgz  # like this\n",
    "\n",
    "### At this point, we now have to establish a symbolic link my storage location for the datasets.\n",
    "$ cd /gscratch/bumblereem/viveklp/MOM6-examples\n",
    "\n",
    "$ mkdir .datasets\n",
    "\n",
    "# DON'T FORGET THE PERIOD...\n",
    "$ ln -s /gscratch/bumblereem/viveklp/datasets .datasets\n",
    "\n",
    "# Check our work\n",
    "$ cd //gscratch/bumblereem/viveklp/MOM6-examples/ice_ocean_SIS2/OM4_05/INPUT\n",
    "$ ncdump -h ocean_hgrid.nc"
   ]
  },
  {
   "cell_type": "markdown",
   "id": "97df5b87",
   "metadata": {},
   "source": [
    "### To run the test_case in ocean-sis2 coupled mode\n",
    "##  Test the executable:\n",
    "\n",
    "$ cd ../../ice_ocean_SIS2/OM4_05\n",
    "$ mkdir RESTART\n",
    "\n",
    "## Run double_gyre test_case\n",
    "\n",
    "$ ../../build/ice_ocean_SIS2/MOM6\n",
    "\n",
    "*** Note: For running test_case more than 10 days,, better to written an appropriate run script, you can now submit the job. See the HYAK wiki for full details of using the queues.\n"
   ]
  }
 ],
 "metadata": {
  "kernelspec": {
   "display_name": "Python 3",
   "language": "python",
   "name": "python3"
  },
  "language_info": {
   "codemirror_mode": {
    "name": "ipython",
    "version": 3
   },
   "file_extension": ".py",
   "mimetype": "text/x-python",
   "name": "python",
   "nbconvert_exporter": "python",
   "pygments_lexer": "ipython3",
   "version": "3.8.8"
  }
 },
 "nbformat": 4,
 "nbformat_minor": 5
}
